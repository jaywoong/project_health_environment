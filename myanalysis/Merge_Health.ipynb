{
 "cells": [
  {
   "cell_type": "code",
   "execution_count": 1,
   "id": "a92340eb",
   "metadata": {},
   "outputs": [],
   "source": [
    "import pandas as pd\n",
    "import numpy as np"
   ]
  },
  {
   "cell_type": "code",
   "execution_count": 2,
   "id": "98a3c061",
   "metadata": {},
   "outputs": [],
   "source": [
    "# 출력 옵션 변경\n",
    "pd.set_option('display.max_columns', 700)\n",
    "pd.set_option('display.max_rows', 2000)"
   ]
  },
  {
   "cell_type": "code",
   "execution_count": 3,
   "id": "fc9b089c",
   "metadata": {},
   "outputs": [],
   "source": [
    "# 2008~2018년\n",
    "dfh_all = pd.read_excel('../data/h_data.xlsx', sheet_name = None, engine = 'openpyxl'); \n",
    "dfh = pd.concat(dfh_all, ignore_index=True);"
   ]
  },
  {
   "cell_type": "code",
   "execution_count": 4,
   "id": "9093d52f",
   "metadata": {},
   "outputs": [],
   "source": [
    "area = dfh['시도'].isin(['서울특별시','부산광역시','대구광역시','인천광역시','광주광역시','대전광역시','울산광역시','세종특별자치시','경기도','강원도','충청북도','충청남도','전라북도','전라남도','경상북도','경상남도','제주특별자치도'])\n",
    "dfh = dfh[area]"
   ]
  },
  {
   "cell_type": "code",
   "execution_count": 5,
   "id": "83de94d0",
   "metadata": {},
   "outputs": [],
   "source": [
    "lst = []\n",
    "\n",
    "for i in range(0,3):\n",
    "    for j in range(0,16):\n",
    "        lst.append(2009 + i)\n",
    "\n",
    "for i in range(0,7):\n",
    "    for j in range(0,17):\n",
    "        lst.append(2012 + i)\n",
    "                "
   ]
  },
  {
   "cell_type": "code",
   "execution_count": 6,
   "id": "7497efd3",
   "metadata": {},
   "outputs": [],
   "source": [
    "dfh['연도'] = lst"
   ]
  },
  {
   "cell_type": "code",
   "execution_count": 7,
   "id": "04781c50",
   "metadata": {},
   "outputs": [],
   "source": [
    "dfh.replace(np.nan, 0, inplace=True)"
   ]
  },
  {
   "cell_type": "code",
   "execution_count": 8,
   "id": "a8f8d017",
   "metadata": {},
   "outputs": [],
   "source": [
    "dfh.to_excel('../data/health_data.xlsx', index=False, header=True)"
   ]
  },
  {
   "cell_type": "code",
   "execution_count": null,
   "id": "64abec1a",
   "metadata": {},
   "outputs": [],
   "source": []
  },
  {
   "cell_type": "code",
   "execution_count": null,
   "id": "743d8917",
   "metadata": {},
   "outputs": [],
   "source": []
  },
  {
   "cell_type": "code",
   "execution_count": null,
   "id": "e4458dfe",
   "metadata": {},
   "outputs": [],
   "source": []
  }
 ],
 "metadata": {
  "kernelspec": {
   "display_name": "Python 3",
   "language": "python",
   "name": "python3"
  },
  "language_info": {
   "codemirror_mode": {
    "name": "ipython",
    "version": 3
   },
   "file_extension": ".py",
   "mimetype": "text/x-python",
   "name": "python",
   "nbconvert_exporter": "python",
   "pygments_lexer": "ipython3",
   "version": "3.8.8"
  }
 },
 "nbformat": 4,
 "nbformat_minor": 5
}
