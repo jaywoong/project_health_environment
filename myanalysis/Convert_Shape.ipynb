{
 "cells": [
  {
   "cell_type": "code",
   "execution_count": 79,
   "id": "da809806",
   "metadata": {},
   "outputs": [],
   "source": [
    "import pandas as pd\n",
    "import numpy as np"
   ]
  },
  {
   "cell_type": "code",
   "execution_count": 80,
   "id": "0fa9d998",
   "metadata": {},
   "outputs": [],
   "source": [
    "# 출력 옵션 변경\n",
    "pd.set_option('display.max_columns', 70)\n",
    "pd.set_option('display.max_rows', 5700)"
   ]
  },
  {
   "cell_type": "code",
   "execution_count": 81,
   "id": "f3dcd47b",
   "metadata": {},
   "outputs": [],
   "source": [
    "df = pd.read_excel('../data/air_merge.xlsx', sheet_name = 'air_index', engine='openpyxl');"
   ]
  },
  {
   "cell_type": "code",
   "execution_count": 82,
   "id": "847a50c1",
   "metadata": {},
   "outputs": [],
   "source": [
    "df.columns = ['지역', '연도', 'pm10', 'so2', 'o3', 'co', 'no2']"
   ]
  },
  {
   "cell_type": "code",
   "execution_count": 83,
   "id": "c0da1d03",
   "metadata": {},
   "outputs": [],
   "source": [
    "new_df = pd.DataFrame(columns = ['연도' , '지역', '지표', '수치(Min-Max)'])\n",
    "\n",
    "for i in range(0,184):\n",
    "    for j in range(2,7):\n",
    "        new_df = new_df.append({'연도' : df.iloc[i,1],\n",
    "                                '지역' : df.iloc[i,0],\n",
    "                                '지표' : df.columns[j],\n",
    "                                '수치(Min-Max)' : df.iloc[i,j]}\n",
    "                                ,ignore_index=True)\n",
    "\n"
   ]
  },
  {
   "cell_type": "code",
   "execution_count": 84,
   "id": "5c2b1432",
   "metadata": {},
   "outputs": [],
   "source": [
    "new_df.to_excel('../data/air_quality_minmax.xlsx', index=False, header=True)"
   ]
  },
  {
   "cell_type": "code",
   "execution_count": null,
   "id": "97de90e3",
   "metadata": {},
   "outputs": [],
   "source": []
  },
  {
   "cell_type": "code",
   "execution_count": null,
   "id": "69939ab2",
   "metadata": {},
   "outputs": [],
   "source": []
  },
  {
   "cell_type": "code",
   "execution_count": null,
   "id": "baeed075",
   "metadata": {},
   "outputs": [],
   "source": []
  },
  {
   "cell_type": "code",
   "execution_count": 85,
   "id": "a12c2979",
   "metadata": {},
   "outputs": [],
   "source": [
    "df = pd.read_excel('../data/water_merge.xlsx', sheet_name = 'water_index', engine='openpyxl');"
   ]
  },
  {
   "cell_type": "code",
   "execution_count": 86,
   "id": "dfef44b8",
   "metadata": {},
   "outputs": [],
   "source": [
    "new_df = pd.DataFrame(columns = ['연도' , '지역', '지표', '수치(Min-Max)'])\n",
    "\n",
    "for i in range(0,170):\n",
    "    for j in range(2,35):\n",
    "        new_df = new_df.append({'연도' : df.iloc[i,1],\n",
    "                                '지역' : df.iloc[i,0],\n",
    "                                '지표' : df.columns[j].rstrip('(minmax)'),\n",
    "                                '수치(Min-Max)' : df.iloc[i,j]}\n",
    "                                ,ignore_index=True)"
   ]
  },
  {
   "cell_type": "code",
   "execution_count": 87,
   "id": "eeaace27",
   "metadata": {},
   "outputs": [],
   "source": [
    "new_df.to_excel('../data/water_quality_minmax.xlsx', index=False, header=True)"
   ]
  },
  {
   "cell_type": "code",
   "execution_count": null,
   "id": "4d987048",
   "metadata": {},
   "outputs": [],
   "source": []
  },
  {
   "cell_type": "code",
   "execution_count": null,
   "id": "5e734a65",
   "metadata": {},
   "outputs": [],
   "source": []
  },
  {
   "cell_type": "code",
   "execution_count": null,
   "id": "09da126c",
   "metadata": {},
   "outputs": [],
   "source": []
  }
 ],
 "metadata": {
  "kernelspec": {
   "display_name": "Python 3",
   "language": "python",
   "name": "python3"
  },
  "language_info": {
   "codemirror_mode": {
    "name": "ipython",
    "version": 3
   },
   "file_extension": ".py",
   "mimetype": "text/x-python",
   "name": "python",
   "nbconvert_exporter": "python",
   "pygments_lexer": "ipython3",
   "version": "3.8.8"
  }
 },
 "nbformat": 4,
 "nbformat_minor": 5
}
