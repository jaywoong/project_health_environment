{
 "cells": [
  {
   "cell_type": "code",
   "execution_count": 79,
   "id": "7e3c669c",
   "metadata": {},
   "outputs": [],
   "source": [
    "import pandas as pd\n",
    "import numpy as np\n",
    "import re"
   ]
  },
  {
   "cell_type": "code",
   "execution_count": 47,
   "id": "23391798",
   "metadata": {},
   "outputs": [],
   "source": [
    "# 출력 옵션 변경\n",
    "pd.set_option('display.max_columns', 70)\n",
    "pd.set_option('display.max_rows', 3000)"
   ]
  },
  {
   "cell_type": "code",
   "execution_count": 51,
   "id": "87d577f0",
   "metadata": {},
   "outputs": [
    {
     "name": "stderr",
     "output_type": "stream",
     "text": [
      "C:\\ProgramData\\Anaconda3\\lib\\site-packages\\openpyxl\\styles\\stylesheet.py:221: UserWarning: Workbook contains no default style, apply openpyxl's default\n",
      "  warn(\"Workbook contains no default style, apply openpyxl's default\")\n"
     ]
    }
   ],
   "source": [
    "# 2010 ~ 2019년 대기질 데이터\n",
    "df_no2 = pd.read_excel('../data/이산화질소_월별_도시별_대기오염도_20211024104129.xlsx');\n",
    "df_so2 = pd.read_excel('../data/아황산가스_월별_도시별_대기오염도_20211024105642.xlsx');\n",
    "df_o3 = pd.read_excel('../data/오존_월별_도시별_대기오염도_20211024111900.xlsx');\n",
    "df_pm10 = pd.read_excel('../data/미세먼지_PM10__월별_도시별_대기오염도_20211024112101.xlsx');\n",
    "df_co = pd.read_excel('../data/일산화탄소_월별_도시별_대기오염도_20211024112415.xlsx');"
   ]
  },
  {
   "cell_type": "code",
   "execution_count": 52,
   "id": "92c957ff",
   "metadata": {},
   "outputs": [],
   "source": [
    "df_no2.drop(0, inplace=True)\n",
    "df_so2.drop(0, inplace=True)\n",
    "df_o3.drop(0, inplace=True)\n",
    "df_pm10.drop(0, inplace=True)\n",
    "df_co.drop(0, inplace=True)"
   ]
  },
  {
   "cell_type": "code",
   "execution_count": 53,
   "id": "c50cb754",
   "metadata": {},
   "outputs": [],
   "source": [
    "df_no2.replace('-', 0, inplace=True)\n",
    "df_so2.replace('-', 0, inplace=True)\n",
    "df_o3.replace('-', 0, inplace=True)\n",
    "df_pm10.replace('-', 0, inplace=True)\n",
    "df_co.replace('-', 0, inplace=True)"
   ]
  },
  {
   "cell_type": "code",
   "execution_count": 59,
   "id": "fad4b801",
   "metadata": {},
   "outputs": [],
   "source": [
    "df = pd.DataFrame(columns = ['시점' , '지역', 'pm10', 'so2', 'o3', 'co', 'no2'])\n",
    "\n",
    "for i in range(0,120):\n",
    "    for j in range(1,18):\n",
    "        df = df.append({'시점' : df_no2.iloc[i,0],\n",
    "                        '지역' : df_no2.columns[j],\n",
    "                        'pm10' : df_pm10.iloc[i,j],\n",
    "                        'so2' : df_so2.iloc[i,j],\n",
    "                        'o3' : df_o3.iloc[i,j],\n",
    "                        'co' : df_co.iloc[i,j],\n",
    "                        'no2' : df_no2.iloc[i,j]} , ignore_index=True)"
   ]
  },
  {
   "cell_type": "code",
   "execution_count": 88,
   "id": "1c87b28c",
   "metadata": {
    "scrolled": true
   },
   "outputs": [],
   "source": [
    "for i in range(0,2040):\n",
    "    for j in range(2,7):\n",
    "        df.iloc[i,j] = re.sub(\"\\*\",\"\",df.iloc[i,j])"
   ]
  },
  {
   "cell_type": "code",
   "execution_count": 90,
   "id": "f24712d5",
   "metadata": {},
   "outputs": [],
   "source": [
    "df.to_excel('../data/air_quality.xlsx', index=False, header=True)"
   ]
  },
  {
   "cell_type": "code",
   "execution_count": null,
   "id": "409d77d7",
   "metadata": {},
   "outputs": [],
   "source": []
  }
 ],
 "metadata": {
  "kernelspec": {
   "display_name": "Python 3",
   "language": "python",
   "name": "python3"
  },
  "language_info": {
   "codemirror_mode": {
    "name": "ipython",
    "version": 3
   },
   "file_extension": ".py",
   "mimetype": "text/x-python",
   "name": "python",
   "nbconvert_exporter": "python",
   "pygments_lexer": "ipython3",
   "version": "3.8.8"
  }
 },
 "nbformat": 4,
 "nbformat_minor": 5
}
